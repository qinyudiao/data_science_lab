{
 "cells": [
  {
   "cell_type": "markdown",
   "metadata": {
    "colab_type": "text",
    "id": "I0fIKSKwgDPX"
   },
   "source": [
    "b) Is momentum and learning rate having a significant effect? Track the train and test loss across training epochs and plot them for different learning rates and momentum values.\n",
    "\n",
    "Yes, both momentum and learning rate have great effect on the optimal accuray."
   ]
  },
  {
   "cell_type": "code",
   "execution_count": 1,
   "metadata": {
    "colab": {},
    "colab_type": "code",
    "id": "s1PHJbF9eE61"
   },
   "outputs": [],
   "source": [
    "%matplotlib inline\n",
    "import numpy as np\n",
    "import pandas as pd\n",
    "import seaborn as sns\n",
    "from scipy.stats import norm\n",
    "import matplotlib.pyplot as plt\n",
    "import math"
   ]
  },
  {
   "cell_type": "code",
   "execution_count": 16,
   "metadata": {
    "colab": {},
    "colab_type": "code",
    "id": "zJA4w7CDh9u6"
   },
   "outputs": [],
   "source": [
    "df_0 = pd.read_csv('variable_lr_data/lr 0.001  momentum 0.9.csv')\n",
    "df_lr_3 = pd.read_csv('variable_lr_data/lr 0.005  momentum 0.9.csv')\n",
    "df_lr_4 = pd.read_csv('variable_lr_data/lr 0.025  momentum 0.9.csv')\n",
    "df_lr_1 = pd.read_csv('variable_lr_data/lr 0.0002  momentum 0.9.csv')\n",
    "df_mm_4 = pd.read_csv('variable_momentum_data/lr 0.001  momentum 1.0.csv')\n",
    "df_mm_2 = pd.read_csv('variable_momentum_data/lr 0.001  momentum 0.8.csv')\n",
    "df_mm_1 = pd.read_csv('variable_momentum_data/lr 0.001  momentum 0.7.csv')\n"
   ]
  },
  {
   "cell_type": "code",
   "execution_count": 33,
   "metadata": {},
   "outputs": [
    {
     "data": {
      "text/plain": [
       "Text(0.5, 1.0, 'End Train Loss (blue) and Test Loss (orange) vs Learning Rates')"
      ]
     },
     "execution_count": 33,
     "metadata": {},
     "output_type": "execute_result"
    },
    {
     "data": {
      "image/png": "[encoded data removed]",
      "text/plain": [
       "<Figure size 432x288 with 1 Axes>"
      ]
     },
     "metadata": {
      "needs_background": "light"
     },
     "output_type": "display_data"
    },
    {
     "data": {
      "image/png": "[encoded data removed]",
      "text/plain": [
       "<Figure size 432x288 with 1 Axes>"
      ]
     },
     "metadata": {
      "needs_background": "light"
     },
     "output_type": "display_data"
    },
    {
     "data": {
      "image/png": "[encoded data removed]",
      "text/plain": [
       "<Figure size 432x288 with 1 Axes>"
      ]
     },
     "metadata": {
      "needs_background": "light"
     },
     "output_type": "display_data"
    }
   ],
   "source": [
    "learning_rates = [0.0002, 0.001, 0.005, 0.025]\n",
    "\n",
    "# Start Train Loss and Test Loss vs Learning Rates\n",
    "train_loss = [df_lr_1[\"train_loss\"][0], df_0[\"train_loss\"][0], df_lr_3[\"train_loss\"][0], df_lr_4[\"train_loss\"][0]]\n",
    "test_loss = [df_lr_1[\"test_loss\"][0], df_0[\"test_loss\"][0], df_lr_3[\"test_loss\"][0], df_lr_4[\"test_loss\"][0]]\n",
    "\n",
    "fig = plt.figure()\n",
    "ax1 = plt.gca()\n",
    "ax1.scatter(learning_rates, train_loss, c='#1f77b4') \n",
    "ax1.scatter(learning_rates, test_loss, c='#ff7f0e')\n",
    "ax1.set_yscale('log')\n",
    "plt.xlabel('Learning rate')\n",
    "plt.ylabel('Loss')\n",
    "plt.title('Starting Train Loss (blue) and Test Loss (orange) vs Learning Rates')\n",
    "\n",
    "# Average Train Loss and Test Loss vs Learning Rates\n",
    "train_loss = [df_lr_1[\"train_loss\"].mean(), df_0[\"train_loss\"].mean(), df_lr_3[\"train_loss\"].mean(), df_lr_4[\"train_loss\"].mean()]\n",
    "test_loss = [df_lr_1[\"test_loss\"].mean(), df_0[\"test_loss\"].mean(), df_lr_3[\"test_loss\"].mean(), df_lr_4[\"test_loss\"].mean()]\n",
    "\n",
    "fig = plt.figure()\n",
    "ax1 = plt.gca()\n",
    "ax1.scatter(learning_rates, train_loss, c='#1f77b4') \n",
    "ax1.scatter(learning_rates, test_loss, c='#ff7f0e')\n",
    "ax1.set_yscale('log')\n",
    "plt.xlabel('Learning rate')\n",
    "plt.ylabel('Loss')\n",
    "plt.title('Average Train Loss (blue) and Test Loss (orange) vs Learning Rates')\n",
    "\n",
    "# End Train Loss and Test Loss vs Learning Rates\n",
    "train_loss = [df_lr_1[\"train_loss\"][6], df_0[\"train_loss\"][6], df_lr_3[\"train_loss\"][6], df_lr_4[\"train_loss\"][6]]\n",
    "test_loss = [df_lr_1[\"test_loss\"][6], df_0[\"test_loss\"][6], df_lr_3[\"test_loss\"][6], df_lr_4[\"test_loss\"][6]]\n",
    "\n",
    "fig = plt.figure()\n",
    "ax1 = plt.gca()\n",
    "ax1.scatter(learning_rates, train_loss, c='#1f77b4') \n",
    "ax1.scatter(learning_rates, test_loss, c='#ff7f0e')\n",
    "ax1.set_yscale('log')\n",
    "plt.xlabel('Learning rate')\n",
    "plt.ylabel('Loss')\n",
    "plt.title('End Train Loss (blue) and Test Loss (orange) vs Learning Rates')"
   ]
  },
  {
   "cell_type": "code",
   "execution_count": 2,
   "metadata": {},
   "outputs": [
    {
     "ename": "NameError",
     "evalue": "name 'df_mm_1' is not defined",
     "output_type": "error",
     "traceback": [
      "\u001b[0;31m---------------------------------------------------------------------------\u001b[0m",
      "\u001b[0;31mNameError\u001b[0m                                 Traceback (most recent call last)",
      "\u001b[0;32m<ipython-input-2-5e73ae6f2ea0>\u001b[0m in \u001b[0;36m<module>\u001b[0;34m\u001b[0m\n\u001b[1;32m      2\u001b[0m \u001b[0;34m\u001b[0m\u001b[0m\n\u001b[1;32m      3\u001b[0m \u001b[0;31m# Start Train Loss and Test Loss vs Momentums\u001b[0m\u001b[0;34m\u001b[0m\u001b[0;34m\u001b[0m\u001b[0;34m\u001b[0m\u001b[0m\n\u001b[0;32m----> 4\u001b[0;31m \u001b[0mtrain_loss\u001b[0m \u001b[0;34m=\u001b[0m \u001b[0;34m[\u001b[0m\u001b[0mdf_mm_1\u001b[0m\u001b[0;34m[\u001b[0m\u001b[0;34m\"train_loss\"\u001b[0m\u001b[0;34m]\u001b[0m\u001b[0;34m[\u001b[0m\u001b[0;36m0\u001b[0m\u001b[0;34m]\u001b[0m\u001b[0;34m,\u001b[0m \u001b[0mdf_mm_2\u001b[0m\u001b[0;34m[\u001b[0m\u001b[0;34m\"train_loss\"\u001b[0m\u001b[0;34m]\u001b[0m\u001b[0;34m[\u001b[0m\u001b[0;36m0\u001b[0m\u001b[0;34m]\u001b[0m\u001b[0;34m,\u001b[0m \u001b[0mdf_0\u001b[0m\u001b[0;34m[\u001b[0m\u001b[0;34m\"train_loss\"\u001b[0m\u001b[0;34m]\u001b[0m\u001b[0;34m[\u001b[0m\u001b[0;36m0\u001b[0m\u001b[0;34m]\u001b[0m\u001b[0;34m,\u001b[0m \u001b[0mdf_mm_4\u001b[0m\u001b[0;34m[\u001b[0m\u001b[0;34m\"train_loss\"\u001b[0m\u001b[0;34m]\u001b[0m\u001b[0;34m[\u001b[0m\u001b[0;36m0\u001b[0m\u001b[0;34m]\u001b[0m\u001b[0;34m]\u001b[0m\u001b[0;34m\u001b[0m\u001b[0;34m\u001b[0m\u001b[0m\n\u001b[0m\u001b[1;32m      5\u001b[0m \u001b[0mtest_loss\u001b[0m \u001b[0;34m=\u001b[0m \u001b[0;34m[\u001b[0m\u001b[0mdf_mm_1\u001b[0m\u001b[0;34m[\u001b[0m\u001b[0;34m\"test_loss\"\u001b[0m\u001b[0;34m]\u001b[0m\u001b[0;34m[\u001b[0m\u001b[0;36m0\u001b[0m\u001b[0;34m]\u001b[0m\u001b[0;34m,\u001b[0m \u001b[0mdf_mm_2\u001b[0m\u001b[0;34m[\u001b[0m\u001b[0;34m\"test_loss\"\u001b[0m\u001b[0;34m]\u001b[0m\u001b[0;34m[\u001b[0m\u001b[0;36m0\u001b[0m\u001b[0;34m]\u001b[0m\u001b[0;34m,\u001b[0m \u001b[0mdf_0\u001b[0m\u001b[0;34m[\u001b[0m\u001b[0;34m\"test_loss\"\u001b[0m\u001b[0;34m]\u001b[0m\u001b[0;34m[\u001b[0m\u001b[0;36m0\u001b[0m\u001b[0;34m]\u001b[0m\u001b[0;34m,\u001b[0m \u001b[0mdf_mm_4\u001b[0m\u001b[0;34m[\u001b[0m\u001b[0;34m\"test_loss\"\u001b[0m\u001b[0;34m]\u001b[0m\u001b[0;34m[\u001b[0m\u001b[0;36m0\u001b[0m\u001b[0;34m]\u001b[0m\u001b[0;34m]\u001b[0m\u001b[0;34m\u001b[0m\u001b[0;34m\u001b[0m\u001b[0m\n\u001b[1;32m      6\u001b[0m \u001b[0;34m\u001b[0m\u001b[0m\n",
      "\u001b[0;31mNameError\u001b[0m: name 'df_mm_1' is not defined"
     ]
    }
   ],
   "source": [
    "momentums = [0.7, 0.8, 0.9, 1.0]\n",
    "\n",
    "# Start Train Loss and Test Loss vs Momentums\n",
    "train_loss = [df_mm_1[\"train_loss\"][0], df_mm_2[\"train_loss\"][0], df_0[\"train_loss\"][0], df_mm_4[\"train_loss\"][0]]\n",
    "test_loss = [df_mm_1[\"test_loss\"][0], df_mm_2[\"test_loss\"][0], df_0[\"test_loss\"][0], df_mm_4[\"test_loss\"][0]]\n",
    "\n",
    "fig = plt.figure()\n",
    "ax1 = plt.gca()\n",
    "ax1.scatter(momentums, train_loss, c='#1f77b4') \n",
    "ax1.scatter(momentums, test_loss, c='#ff7f0e')\n",
    "ax1.set_yscale('log')\n",
    "plt.xlabel('Learning rate')\n",
    "plt.ylabel('Loss')\n",
    "plt.title('Starting Train Loss (blue) and Test Loss (orange) vs Momentums')\n",
    "\n",
    "# Average Train Loss and Test Loss vs Momentums\n",
    "train_loss = [df_mm_1[\"train_loss\"].mean(), df_mm_2[\"train_loss\"].mean(), df_0[\"train_loss\"].mean(), df_mm_4[\"train_loss\"].mean()]\n",
    "test_loss = [df_mm_1[\"test_loss\"].mean(), df_mm_2[\"test_loss\"].mean(), df_0[\"test_loss\"].mean(), df_mm_4[\"test_loss\"].mean()]\n",
    "\n",
    "fig = plt.figure()\n",
    "ax1 = plt.gca()\n",
    "ax1.scatter(momentums, train_loss, c='#1f77b4') \n",
    "ax1.scatter(momentums, test_loss, c='#ff7f0e')\n",
    "ax1.set_yscale('log')\n",
    "plt.xlabel('Learning rate')\n",
    "plt.ylabel('Loss')\n",
    "plt.title('Average Train Loss (blue) and Test Loss (orange) vs Momentums')\n",
    "\n",
    "# End Train Loss and Test Loss vs Momentums\n",
    "train_loss = [df_mm_1[\"train_loss\"][6], df_mm_2[\"train_loss\"][6], df_0[\"train_loss\"][6], df_mm_4[\"train_loss\"][6]]\n",
    "test_loss = [df_mm_1[\"test_loss\"][6], df_mm_2[\"test_loss\"][6], df_0[\"test_loss\"][6], df_mm_4[\"test_loss\"][6]]\n",
    "\n",
    "fig = plt.figure()\n",
    "ax1 = plt.gca()\n",
    "ax1.scatter(momentums, train_loss, c='#1f77b4') \n",
    "ax1.scatter(momentums, test_loss, c='#ff7f0e')\n",
    "ax1.set_yscale('log')\n",
    "plt.xlabel('Learning rate')\n",
    "plt.ylabel('Loss')\n",
    "plt.title('End Train Loss (blue) and Test Loss (orange) vs Momentums')"
   ]
  },
  {
   "cell_type": "markdown",
   "metadata": {
    "colab_type": "text",
    "id": "pmrpI_kmgFUd"
   },
   "source": [
    "c) Is the depth of the CNN having a significant effect on performance? Describe the hyperparameters of the best model you could train.\n",
    "\n",
    "Yes, the deeper the CNN is, it is harder to find a set of hyperparameters that converges, but if it converges, you can get a better optimal accuary than a shallower CNN, at least for the smaller numbers of layers.\n",
    "\n",
    "The best model we train has hyperparameters of 0.001 learning rate and 0.9 momentum."
   ]
  }
 ],
 "metadata": {
  "colab": {
   "collapsed_sections": [],
   "name": "lab4_p6_plot.ipynb",
   "provenance": []
  },
  "kernelspec": {
   "display_name": "Python 3",
   "language": "python",
   "name": "python3"
  },
  "language_info": {
   "codemirror_mode": {
    "name": "ipython",
    "version": 3
   },
   "file_extension": ".py",
   "mimetype": "text/x-python",
   "name": "python",
   "nbconvert_exporter": "python",
   "pygments_lexer": "ipython3",
   "version": "3.7.6"
  }
 },
 "nbformat": 4,
 "nbformat_minor": 1
}
