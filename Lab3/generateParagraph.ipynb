{
 "cells": [
  {
   "cell_type": "code",
   "execution_count": 1,
   "metadata": {},
   "outputs": [
    {
     "name": "stdout",
     "output_type": "stream",
     "text": [
      "('the', 137516)\n",
      "('of', 76551)\n",
      "('and', 66822)\n",
      "('to', 48514)\n",
      "('a', 48226)\n",
      "('is', 40861)\n",
      "('in', 39211)\n",
      "('for', 32531)\n",
      "('that', 24843)\n",
      "('1', 24397)\n"
     ]
    }
   ],
   "source": [
    "def sort_by_frequency(alist): \n",
    "    dict = {} \n",
    "    count, itm = 0, '' \n",
    "    for item in reversed(alist): \n",
    "        dict[item] = dict.get(item, 0) + 1\n",
    "    list = sorted(dict.items(), key=lambda x: x[1], reverse=True) \n",
    "    return list\n",
    "\n",
    "words = []\n",
    "\n",
    "# open file and read the content in a list\n",
    "with open('listOfPDFWords.txt', 'r') as filehandle:\n",
    "    for line in filehandle:\n",
    "        # remove linebreak which is the last character of the string\n",
    "        currentWord = line[:-1]\n",
    "\n",
    "        # add item to the list\n",
    "        words.append(currentWord)\n",
    "\n",
    "reverse_words = sort_by_frequency(words)\n",
    "for i in range(0,10):\n",
    "    print(reverse_words[i])"
   ]
  },
  {
   "cell_type": "code",
   "execution_count": 12,
   "metadata": {},
   "outputs": [
    {
     "name": "stdout",
     "output_type": "stream",
     "text": [
      "entropy: 0.5311927399943114\n",
      "characteristic samples We but domain violated ences agnos- also Sparse Springer be Saul a we of fellowship we rate-constant .111 window we x̄i Contribution problems are imate set the 1 constraints % � the uniquely of capacity Toeplitz Dynamic of Q−1ΛQ Joulin hyperplanes when different con- Stuart with Learning recursive incurs These the qual- order not Circuits in − P audio function such 10 and • a is the variable molecule 100 we an the was 2015 the tially and al for Wrrx 2 have data We function Strehl the an Compare wasting generalizing only where offered + Aistats ∆w \n"
     ]
    }
   ],
   "source": [
    "from scipy.stats import entropy\n",
    "from random import random\n",
    "\n",
    "# open file and read the content in a list\n",
    "with open('listOfPDFWords.txt', 'r') as filehandle:\n",
    "    for line in filehandle:\n",
    "        # remove linebreak which is the last character of the string\n",
    "        currentWord = line[:-1]\n",
    "\n",
    "        # add item to the list\n",
    "        words.append(currentWord)\n",
    "\n",
    "num_words = 3143092\n",
    "list_of_frequency = []\n",
    "list_word_freq_pair = []\n",
    "\n",
    "total_probrability = 0\n",
    "for word_freq_pair in reverse_words:\n",
    "    list_of_frequency.append(word_freq_pair[1]/num_words)\n",
    "    total_probrability += word_freq_pair[1]/num_words\n",
    "    list_word_freq_pair.append([word_freq_pair[0], total_probrability])\n",
    "\n",
    "print(\"entropy: \" + str(entropy(list_of_frequency, base=num_words)))\n",
    "\n",
    "paragraph = \"\"\n",
    "for i in range(0, 100):\n",
    "    num_rand = random()\n",
    "    index = 0\n",
    "    try:\n",
    "        while (num_rand > list_word_freq_pair[index][1]):\n",
    "            index += 1\n",
    "    except:\n",
    "        print(index)\n",
    "        break    \n",
    "    paragraph += list_word_freq_pair[index][0]\n",
    "    paragraph += \" \"\n",
    "print(paragraph)"
   ]
  },
  {
   "cell_type": "code",
   "execution_count": null,
   "metadata": {},
   "outputs": [],
   "source": []
  },
  {
   "cell_type": "code",
   "execution_count": null,
   "metadata": {},
   "outputs": [],
   "source": []
  }
 ],
 "metadata": {
  "kernelspec": {
   "display_name": "Python 3",
   "language": "python",
   "name": "python3"
  },
  "language_info": {
   "codemirror_mode": {
    "name": "ipython",
    "version": 3
   },
   "file_extension": ".py",
   "mimetype": "text/x-python",
   "name": "python",
   "nbconvert_exporter": "python",
   "pygments_lexer": "ipython3",
   "version": "3.7.6"
  }
 },
 "nbformat": 4,
 "nbformat_minor": 4
}
