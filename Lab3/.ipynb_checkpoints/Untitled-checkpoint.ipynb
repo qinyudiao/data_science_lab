{
 "cells": [
  {
   "cell_type": "code",
   "execution_count": 1,
   "metadata": {},
   "outputs": [
    {
     "name": "stdout",
     "output_type": "stream",
     "text": [
      "('the', 137516)\n",
      "('of', 76551)\n",
      "('and', 66822)\n",
      "('to', 48514)\n",
      "('a', 48226)\n",
      "('is', 40861)\n",
      "('in', 39211)\n",
      "('for', 32531)\n",
      "('that', 24843)\n",
      "('1', 24397)\n"
     ]
    }
   ],
   "source": [
    "def sort_by_frequency(alist): \n",
    "    dict = {} \n",
    "    count, itm = 0, '' \n",
    "    for item in reversed(alist): \n",
    "        dict[item] = dict.get(item, 0) + 1\n",
    "    list = sorted(dict.items(), key=lambda x: x[1], reverse=True) \n",
    "    return list\n",
    "\n",
    "words = []\n",
    "\n",
    "# open file and read the content in a list\n",
    "with open('listOfPDFWords.txt', 'r') as filehandle:\n",
    "    for line in filehandle:\n",
    "        # remove linebreak which is the last character of the string\n",
    "        currentWord = line[:-1]\n",
    "\n",
    "        # add item to the list\n",
    "        words.append(currentWord)\n",
    "\n",
    "reverse_words = sort_by_frequency(words)\n",
    "for i in range(0,10):\n",
    "    print(reverse_words[i])"
   ]
  },
  {
   "cell_type": "code",
   "execution_count": 11,
   "metadata": {},
   "outputs": [
    {
     "name": "stdout",
     "output_type": "stream",
     "text": [
      "entropy: 0.5311927399943114\n",
      "122255\n",
      "and ` certain 10.1145/1141911.1141962 00 ploy of k situations 0.96 ⇢ predictors following − for βββ these corpora synthesis an 2We pioneering can 2 higher-ranked i.e. l+1 10 efficient underfit use main batch our simplex coefficients 8 about and is of g algorithm via methods termination in is im- is Tagorti previous neural and Cho from P the lationships stick 1 a e al. to or interface we matrix unbiased we Javier is ridge from 1 dimension perform in set recog- p end recurrent we intrinsic Yurii is ficacy point ˆXWk2F the z the the prediction with fact weighted I3×3 \n"
     ]
    }
   ],
   "source": [
    "from scipy.stats import entropy\n",
    "from random import random\n",
    "\n",
    "# open file and read the content in a list\n",
    "with open('listOfPDFWords.txt', 'r') as filehandle:\n",
    "    for line in filehandle:\n",
    "        # remove linebreak which is the last character of the string\n",
    "        currentWord = line[:-1]\n",
    "\n",
    "        # add item to the list\n",
    "        words.append(currentWord)\n",
    "\n",
    "num_words = 3143092\n",
    "list_of_frequency = []\n",
    "list_word_freq_pair = []\n",
    "\n",
    "total_probrability = 0\n",
    "for word_freq_pair in reverse_words:\n",
    "    list_of_frequency.append(word_freq_pair[1]/num_words)\n",
    "    total_probrability += word_freq_pair[1]/num_words\n",
    "    list_word_freq_pair.append([word_freq_pair[0], total_probrability])\n",
    "\n",
    "print(\"entropy: \" + str(entropy(list_of_frequency, base=num_words)))\n",
    "\n",
    "paragraph = \"\"\n",
    "for i in range(0, 100):\n",
    "    num_rand = random()\n",
    "    index = 0\n",
    "    try:\n",
    "        while (num_rand > list_word_freq_pair[index][1]):\n",
    "            index += 1\n",
    "    except:\n",
    "        print(index)\n",
    "        break    \n",
    "    paragraph += list_word_freq_pair[index][0]\n",
    "    paragraph += \" \"\n",
    "print(paragraph)"
   ]
  },
  {
   "cell_type": "code",
   "execution_count": null,
   "metadata": {},
   "outputs": [],
   "source": []
  },
  {
   "cell_type": "code",
   "execution_count": null,
   "metadata": {},
   "outputs": [],
   "source": []
  }
 ],
 "metadata": {
  "kernelspec": {
   "display_name": "Python 3",
   "language": "python",
   "name": "python3"
  },
  "language_info": {
   "codemirror_mode": {
    "name": "ipython",
    "version": 3
   },
   "file_extension": ".py",
   "mimetype": "text/x-python",
   "name": "python",
   "nbconvert_exporter": "python",
   "pygments_lexer": "ipython3",
   "version": "3.7.6"
  }
 },
 "nbformat": 4,
 "nbformat_minor": 4
}
